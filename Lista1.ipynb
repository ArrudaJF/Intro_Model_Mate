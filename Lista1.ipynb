{
  "cells": [
    {
      "cell_type": "markdown",
      "metadata": {
        "id": "bBPeruYJR5rl"
      },
      "source": [
        "# <font color='blue'>SME0241 - Introdução à Modelagem Matemática</font>\n",
        "\n",
        "## Lista 1 (Data de Entrega: 11/10/2022)\n",
        "\n",
        "## Prof. Luis Gustavo Nonato\n",
        "## Monitor: Bruno da Freiria Mischiati Borges  \n",
        "\n",
        "ICMC-USP\n",
        "\n",
        "----"
      ]
    },
    {
      "cell_type": "code",
      "execution_count": null,
      "metadata": {
        "id": "Bto7cUFYL7QP"
      },
      "outputs": [],
      "source": [
        "import numpy as np\n",
        "import matplotlib.pyplot as plt"
      ]
    },
    {
      "cell_type": "markdown",
      "metadata": {
        "id": "8wajX4FkMFaK"
      },
      "source": [
        "### Questão 1:  (2,5 pontos)\n",
        "Considerando a equação do calor abaixo:\n",
        "\n",
        "$$\n",
        "u_t(x,t)=\\kappa u_{xx}(x,t)\n",
        "$$\n",
        "\n",
        "onde $\\kappa=2$. Suponha que o intervalo temporal esteja discretizado de modo que $\\Delta t = 0.14$. Qual dos valores abaixo para $\\Delta x$ torna o método de diferenças finitas estável?\n",
        "Implemente um código para encontrar o valor pedido\n",
        "\n",
        "a) 0.6</font><br>\n",
        "b) 0.75 (X) <br>\n",
        "c) 0.70<br>\n",
        "d) 0.5<br>"
      ]
    },
    {
      "cell_type": "code",
      "execution_count": null,
      "metadata": {
        "id": "MlS65GpPOYPM",
        "colab": {
          "base_uri": "https://localhost:8080/"
        },
        "outputId": "c04d0473-3e20-49ac-aa43-381e5993cecb"
      },
      "outputs": [
        {
          "output_type": "stream",
          "name": "stdout",
          "text": [
            "0.4977777777777778\n"
          ]
        }
      ],
      "source": [
        "# Solucao \n",
        "# Pelo Teorema de Lax sabemos que a razão k*dt/(dx)² <= 1/2 para a equação do Calor, assim\n",
        "#       para o valor dt = 0.14, temos que 2*0.14/(dx)² <= 0.5\n",
        "#\n",
        "#             0.28/0.5 <= dx²\n",
        "#                  0.56 <= dx²\n",
        "#                      0.748 <= dx\n",
        "k = 2.0\n",
        "dt = 0.14\n",
        "dx = 0.75\n",
        "print(k*dt/dx**2)"
      ]
    },
    {
      "cell_type": "markdown",
      "metadata": {
        "id": "ugbCbiYyQJ-g"
      },
      "source": [
        "### Questão 2:  (2,5 pontos)\n",
        "Considere a função \n",
        "\n",
        "$$\n",
        "f(x)=tan(x)\n",
        "$$\n",
        "\n",
        "no intervalo $x\\in[0.2,0.6]$.\n",
        "\n",
        "Aproxime a função no ponto x = 0.4 utilizando o polinômio de Taylor de segundo grau abaixo\n",
        "\n",
        "$$\n",
        "f(x_0+h) = f(x_0)+f^{'}(x_0)h + f^{''}(x_0)\\frac{h^2}{2}\n",
        "$$\n",
        "\n",
        "Qual o valor da aproximação no ponto $x = 0.5$ (considere três casas decimais)?\n",
        "\n",
        "Imprima, em um só quadro, o gráfico da função $f(x) = tan(x)$ e do polinômio de Taylor obtido. Além disso, mostre graficamente o ponto $x = 0.5$ avaliado no polinômio de Taylor.\n",
        "\n",
        "\n",
        "a) 0.437<br>\n",
        "b) 0.643<br>\n",
        "c) 0.545 (X) <br>\n",
        "d) 0.449<br>"
      ]
    },
    {
      "cell_type": "code",
      "execution_count": null,
      "metadata": {
        "id": "41uA57XUTgME",
        "colab": {
          "base_uri": "https://localhost:8080/",
          "height": 335
        },
        "outputId": "0d9e3325-89a8-4316-f26e-2712abc2f126"
      },
      "outputs": [
        {
          "output_type": "stream",
          "name": "stdout",
          "text": [
            "0.5003003003003003\n",
            "0.5456523217442257\n",
            "0.5466924776818608\n"
          ]
        },
        {
          "output_type": "execute_result",
          "data": {
            "text/plain": [
              "<matplotlib.collections.PathCollection at 0x7f3ce78c1850>"
            ]
          },
          "metadata": {},
          "execution_count": 4
        },
        {
          "output_type": "display_data",
          "data": {
            "text/plain": [
              "<Figure size 432x288 with 1 Axes>"
            ],
            "image/png": "[encoded data removed]"
          },
          "metadata": {
            "needs_background": "light"
          }
        }
      ],
      "source": [
        "# Solucao\n",
        "def myTaylor(x):\n",
        "  h = x - 0.4\n",
        "  value =  np.tan(0.4) + h/(np.cos(0.4)**2) + np.sin(0.4)*(h**2)/(np.cos(0.4)**3)\n",
        "  return value\n",
        "\n",
        "x = np.linspace(0.2, 0.6, 1000)\n",
        "u = np.zeros(1000)\n",
        "v = np.tan(x)\n",
        "u[0] = 0.2\n",
        "\n",
        "for i in range(1, 1000):\n",
        "  u[i] = myTaylor(x[i])\n",
        "  \n",
        "print(x[750])\n",
        "print(myTaylor(0.5))\n",
        "print(v[750])\n",
        "\n",
        "plt.plot(x, u)\n",
        "plt.plot(x, v)\n",
        "plt.scatter(0.5,myTaylor(0.5),c='r')"
      ]
    },
    {
      "cell_type": "markdown",
      "metadata": {
        "id": "IWOhJbIFffB4"
      },
      "source": [
        "#### Questão 3:  (2,5 pontos)\n",
        "Considere a equação do calor como descrita abaixo:\n",
        "\n",
        "$$\n",
        "u_t(x,t)=\\kappa u_{xx}(x,t)\n",
        "$$\n",
        "\n",
        "Supondo $x\\in[0,2\\pi]$, $t\\in[0,3]$, $\\kappa=3$, $\\Delta x = 0.7$ e as condições de contorno $u(0,t)=t^3$ e $u(2\\pi,t)=sen(t)$ encontre uma aproximação do valor da solução em $u(2,3)$. O valor aproximado é:\n",
        "\n",
        "a) 6.984 (X) <br>\n",
        "b) 6.975<br>\n",
        "c) 6.447<br>\n",
        "d) 6.450<br>\n",
        "\n",
        "Faça um gráfico da solução aproximada em $u(x,3)$ e o ponto $u(2,3)$ apontado na solução.\n",
        "\n",
        "Dica: calcule a solução aproximada em $u(x,3)$ por interplação linear"
      ]
    },
    {
      "cell_type": "code",
      "execution_count": null,
      "metadata": {
        "colab": {
          "base_uri": "https://localhost:8080/",
          "height": 334
        },
        "id": "pDBVd4eBi6q5",
        "outputId": "e29ee5b7-3137-4e96-d3cb-8ac27d121412"
      },
      "outputs": [
        {
          "output_type": "stream",
          "name": "stdout",
          "text": [
            "7.327536390286192\n",
            "[0.   0.7  1.4  2.1  2.8  3.5  4.2  4.9  5.6  6.28]\n",
            "[27.   17.41 11.05  6.88  4.19  2.47  1.36  0.6   0.    0.14]\n"
          ]
        },
        {
          "output_type": "execute_result",
          "data": {
            "text/plain": [
              "<matplotlib.collections.PathCollection at 0x7f3cdebb0610>"
            ]
          },
          "metadata": {},
          "execution_count": 32
        },
        {
          "output_type": "display_data",
          "data": {
            "text/plain": [
              "<Figure size 432x288 with 1 Axes>"
            ],
            "image/png": "[encoded data removed]"
          },
          "metadata": {
            "needs_background": "light"
          }
        }
      ],
      "source": [
        "# Solucao\n",
        "k = 3.0\n",
        "\n",
        "dx = 0.7\n",
        "L = 2*np.pi\n",
        "nX = int(np.ceil(L/dx))\n",
        "#x = np.linspace(0, 2*np.pi, nX)\n",
        "\n",
        "x = np.zeros(nX+1)\n",
        "for i in range(0, nX+1):\n",
        "  x[i] = dx*i\n",
        "x[-1] = 2*np.pi\n",
        "\n",
        "\n",
        "dt = (dx**2)/(2*k)\n",
        "T = 3.0\n",
        "nT = int(np.ceil(T/dt))\n",
        "t = np.linspace(0, T, nT)\n",
        "\"\"\"t = np.zeros(nT)\n",
        "for i in range(0, nT):\n",
        "  t[i] = dt*i\n",
        "t[-1] = 3.0\n",
        "\"\"\"\n",
        "u = np.zeros((nX+1, nT))\n",
        "for q in range(len(t)):\n",
        "  u[0, q] = t[q]**3\n",
        "  u[-1, q] = np.sin(t[q])\n",
        "\n",
        "\n",
        "for i in range(0,nT-1):\n",
        "    for j in range(1, nX-1):\n",
        "      u[j, i+1] = u[j, i]+ dt*(k*(u[j-1, i] -2*u[j, i] + u[j+1, i])/(dx**2))\n",
        "\n",
        "y = u[3, -1] - (2 - x[3])*(u[2, -2] - u[3, -1])/dx\n",
        "\n",
        "np.set_printoptions(precision=2)\n",
        "\n",
        "print(y)\n",
        "print(x)\n",
        "print(u[:, -1])\n",
        "plt.plot(x, u[:,-1])\n",
        "plt.scatter(2,y,c='r')\n",
        "\n",
        "\n",
        "# Professor, como pode perceber, independente da discretização que faço\n",
        "#      o valor para o ponto x=2 sempre dá maior do que todos os valores das alternativas\n"
      ]
    },
    {
      "cell_type": "markdown",
      "metadata": {
        "id": "rQqC38Xw7HPa"
      },
      "source": [
        "#### Questão 4:  (2,5 pontos)\n",
        "Considere a função $f(x)=xe^x$.\n",
        "Faça o gráfico da função $f^{\\prime}(x)$ (primeira derivada) e da aproximação de $\\hat{f}^{\\prime}(x)$ utilizando diferenças finitas centradas no intervalo $[-3,3]$ com $\\Delta x=0.1$. Repita o processo para $f^{\\prime\\prime}(x)$ e $\\hat{f}^{\\prime\\prime}(x)$. O valor dos erros de aproximação (com três casas decimais) $|f^{\\prime}(x)-\\hat{f}^{\\prime}(x)|$ e $|f^{\\prime\\prime}(x)-\\hat{f}^{\\prime\\prime}(x)|$ no ponto $x=1.5$ são, respectivamente:\n",
        "\n",
        "a) 0.723 e 0.023<br>\n",
        "b) 0.756 e 0.022<br>\n",
        "c) 0.818 e 0.020 (X) <br>\n",
        "d) 0.812 e 0.023"
      ]
    },
    {
      "cell_type": "code",
      "execution_count": null,
      "metadata": {
        "id": "Y-2i0YCoGKjK",
        "colab": {
          "base_uri": "https://localhost:8080/"
        },
        "outputId": "e5c412b0-13ed-428b-ebd3-b0812da1130b"
      },
      "outputs": [
        {
          "output_type": "stream",
          "name": "stdout",
          "text": [
            "0.8189600594057094\n",
            "0.020550413870150663\n"
          ]
        }
      ],
      "source": [
        "# Solucao\n",
        "def func(x):\n",
        "  value = x*np.exp(x)\n",
        "  return value\n",
        "\n",
        "def funcDer(x):\n",
        "  value = (x+1)*np.exp(x)\n",
        "  return value\n",
        "\n",
        "def funcSecondDer(x):\n",
        "  value = (x+2)*np.exp(x)\n",
        "  return value \n",
        "\n",
        "\n",
        "\n",
        "dx = 0.1\n",
        "x = np.zeros(int(6/0.1) + 1)\n",
        "for i in range(0, len(x)):\n",
        "  x[i] = -3 + i*0.1\n",
        "\n",
        "u = np.zeros(len(x))\n",
        "v = np.zeros(len(x))\n",
        "\n",
        "for i in range(0, len(u)):\n",
        "  u[i] = (func(x[i] + dx) - func(x[i]))/dx\n",
        "  v[i] = (func(x[i] + dx) - 2*func(x[i]) + func(x[i] - dx))/(dx**2)\n",
        "\n",
        "#print(x)\n",
        "print(u[-16] - funcDer(1.5))\n",
        "print(v[-16] - funcSecondDer(1.5))"
      ]
    }
  ],
  "metadata": {
    "colab": {
      "provenance": []
    },
    "kernelspec": {
      "display_name": "Python 3 (ipykernel)",
      "language": "python",
      "name": "python3"
    },
    "language_info": {
      "codemirror_mode": {
        "name": "ipython",
        "version": 3
      },
      "file_extension": ".py",
      "mimetype": "text/x-python",
      "name": "python",
      "nbconvert_exporter": "python",
      "pygments_lexer": "ipython3",
      "version": "3.8.10"
    }
  },
  "nbformat": 4,
  "nbformat_minor": 0
}